{
 "cells": [
  {
   "cell_type": "code",
   "execution_count": 9,
   "metadata": {},
   "outputs": [],
   "source": [
    "import re\n",
    "import sys"
   ]
  },
  {
   "cell_type": "code",
   "execution_count": 4,
   "metadata": {},
   "outputs": [],
   "source": [
    "data_str = open(\"books_WIP.txt\", encoding='utf-8').read().strip()\n",
    "lines = data_str.split('\\n')"
   ]
  },
  {
   "cell_type": "code",
   "execution_count": 5,
   "metadata": {},
   "outputs": [],
   "source": [
    "vocab = set(data_str.split())"
   ]
  },
  {
   "cell_type": "code",
   "execution_count": 7,
   "metadata": {},
   "outputs": [
    {
     "data": {
      "text/plain": [
       "1045502"
      ]
     },
     "execution_count": 7,
     "metadata": {},
     "output_type": "execute_result"
    }
   ],
   "source": [
    "len(vocab)"
   ]
  },
  {
   "cell_type": "code",
   "execution_count": 8,
   "metadata": {
    "collapsed": true,
    "jupyter": {
     "outputs_hidden": true
    }
   },
   "outputs": [
    {
     "data": {
      "text/plain": [
       "{'\\n',\n",
       " ' ',\n",
       " '!',\n",
       " '#',\n",
       " '$',\n",
       " '%',\n",
       " '&',\n",
       " \"'\",\n",
       " '(',\n",
       " ')',\n",
       " '*',\n",
       " '+',\n",
       " ',',\n",
       " '-',\n",
       " '.',\n",
       " '/',\n",
       " '0',\n",
       " '1',\n",
       " '2',\n",
       " '3',\n",
       " '4',\n",
       " '5',\n",
       " '6',\n",
       " '7',\n",
       " '8',\n",
       " '9',\n",
       " ':',\n",
       " ';',\n",
       " '<',\n",
       " '=',\n",
       " '>',\n",
       " '?',\n",
       " '@',\n",
       " '[',\n",
       " '\\\\',\n",
       " ']',\n",
       " '^',\n",
       " '_',\n",
       " '`',\n",
       " 'a',\n",
       " 'b',\n",
       " 'c',\n",
       " 'd',\n",
       " 'e',\n",
       " 'f',\n",
       " 'g',\n",
       " 'h',\n",
       " 'i',\n",
       " 'j',\n",
       " 'k',\n",
       " 'l',\n",
       " 'm',\n",
       " 'n',\n",
       " 'o',\n",
       " 'p',\n",
       " 'q',\n",
       " 'r',\n",
       " 's',\n",
       " 't',\n",
       " 'u',\n",
       " 'v',\n",
       " 'w',\n",
       " 'x',\n",
       " 'y',\n",
       " 'z',\n",
       " '{',\n",
       " '|',\n",
       " '}',\n",
       " '~'}"
      ]
     },
     "execution_count": 8,
     "metadata": {},
     "output_type": "execute_result"
    }
   ],
   "source": [
    "char_list = set(data_str)\n",
    "char_list"
   ]
  },
  {
   "cell_type": "code",
   "execution_count": 12,
   "metadata": {},
   "outputs": [
    {
     "name": "stdout",
     "output_type": "stream",
     "text": [
      "2514031701\n",
      "357571088\n",
      "33554656\n"
     ]
    }
   ],
   "source": [
    "print(sys.getsizeof(data_str))\n",
    "print(sys.getsizeof(lines))\n",
    "print(sys.getsizeof(vocab))"
   ]
  },
  {
   "cell_type": "code",
   "execution_count": 24,
   "metadata": {},
   "outputs": [
    {
     "name": "stdout",
     "output_type": "stream",
     "text": [
      "5535\n"
     ]
    }
   ],
   "source": [
    "i = 0\n",
    "for line in lines:\n",
    "    if bool(re.search(r'#', line)):\n",
    "        i += 1\n",
    "print(i)"
   ]
  },
  {
   "cell_type": "code",
   "execution_count": 28,
   "metadata": {},
   "outputs": [],
   "source": [
    "for i, line in enumerate(lines):\n",
    "    if bool(re.search(r'#', line)):\n",
    "        lines[i] = None"
   ]
  },
  {
   "cell_type": "code",
   "execution_count": 30,
   "metadata": {},
   "outputs": [
    {
     "data": {
      "text/plain": [
       "39989566"
      ]
     },
     "execution_count": 30,
     "metadata": {},
     "output_type": "execute_result"
    }
   ],
   "source": [
    "len(lines)"
   ]
  },
  {
   "cell_type": "code",
   "execution_count": 34,
   "metadata": {},
   "outputs": [
    {
     "data": {
      "text/plain": [
       "39984031"
      ]
     },
     "execution_count": 34,
     "metadata": {},
     "output_type": "execute_result"
    }
   ],
   "source": [
    "lines = list(filter(None, lines))\n",
    "len(lines)"
   ]
  },
  {
   "cell_type": "code",
   "execution_count": 42,
   "metadata": {},
   "outputs": [],
   "source": [
    "for i, line in enumerate(lines):\n",
    "    if bool(re.search(r'([\\$%@&]\\s){2,}', line)):\n",
    "        lines[i] = None"
   ]
  },
  {
   "cell_type": "code",
   "execution_count": 46,
   "metadata": {},
   "outputs": [
    {
     "name": "stdout",
     "output_type": "stream",
     "text": [
      "later , kevin opened the snack shack and sold a dozen sodas , four bags of potato chips and six candy bars for a profit of $ 8.80 , his slowest day so far this summer .\n",
      "betsy never mentioned how much this job paid , but id already made up my mind to hold out for at least $ 12.00 an hour .\n",
      "now i wonder if maybe i should crank it up to $ 12.50 an hour .\n",
      "finally , just before a stern looking nurse , in her designer uniform , ordered them out alice and robin left me to get some rest ; after all they were only in the adjacent suite , and as i lay there in the failing light my mind was in turmoil , so much to think about , so many decisions to make : - the children - 25 million each ( , $ or s ? )\n",
      "out of sheer desperation , and to say that i had actually bought something in palm beach , i secretly purchased four watches , one for each of my travelling companions as a thank you present , nigh on twenty grand each , but that did include $ 250 each for wrapping them up prettily .\n",
      "his anonymous source would arrange for $ 100,000 to be delivered to pencil , it always had to be in $ 100,000 bundles , and on receipt of it he would hand over a bank book tied to a legitimate bank account with $ 80,000 residing in it .\n",
      "of course cedric would win some , lose some when he came to the laundering the dirty $ 100,000 but more often than not he made a small profit , not that he was too worried about it ; he was thinking of the bigger picture .\n",
      "he would electronically enter a bank by his back door , pick an amount ( $ 80,000 ) , create an account number for it , choose a fictitious name , then embed his own password in it , so that he could gain access to the whole thing , any time , and give it to some unsuspecting crook for the $ 100,000 .\n",
      "from the comfort of his local bar a doctor with a shiny red nose certified that agnetha had died from injuries received in a road traffic accident , he thought it would be a terrible waste of drinking time to actually view her body , and so that evening , after sitting alone through agnethas after hours cremation service ( agnethas religion apparently stated that her funeral should take place as soon as possible after death , usually immediately following a $ 50,000 cash donation to the charity of the undertakers choice ) charlie sat in an obscure motel room , on the road to nowhere in particular .\n",
      "a small label marked $ 1.95 ea .\n"
     ]
    }
   ],
   "source": [
    "i = 0\n",
    "for line in lines:\n",
    "    if line == None:\n",
    "        continue\n",
    "    if bool(re.search(r'\\$', line)):\n",
    "        print(line)\n",
    "        i += 1\n",
    "    if i >= 10:\n",
    "        break"
   ]
  },
  {
   "cell_type": "code",
   "execution_count": 49,
   "metadata": {},
   "outputs": [
    {
     "data": {
      "text/plain": [
       "'The food costs 5.50 dollars .'"
      ]
     },
     "execution_count": 49,
     "metadata": {},
     "output_type": "execute_result"
    }
   ],
   "source": [
    "s = 'The food costs $ 5.50 .'\n",
    "s2 = \"i have $ 5 .\"\n",
    "re.sub(r'\\$ (\\d+([\\.\\,]\\d+)*)', r'\\1 dollars', s)"
   ]
  },
  {
   "cell_type": "code",
   "execution_count": 51,
   "metadata": {},
   "outputs": [],
   "source": [
    "j = 0\n",
    "for i, line in enumerate(lines):\n",
    "    if line == None:\n",
    "        continue\n",
    "    if bool(re.search(r'\\$', line)):\n",
    "        lines[i] = re.sub(r'\\$ (\\d+([\\.\\,]\\d+)*)', r'\\1 dollars', line)\n",
    "        j += 1"
   ]
  },
  {
   "cell_type": "code",
   "execution_count": 52,
   "metadata": {},
   "outputs": [
    {
     "name": "stdout",
     "output_type": "stream",
     "text": [
      "6256\n"
     ]
    }
   ],
   "source": [
    "print(j)"
   ]
  },
  {
   "cell_type": "code",
   "execution_count": 55,
   "metadata": {},
   "outputs": [],
   "source": [
    "for i, line in enumerate(lines):\n",
    "    if line == None:\n",
    "        continue\n",
    "    if bool(re.search(r'\\$', line)):\n",
    "        lines[i] = None"
   ]
  },
  {
   "cell_type": "code",
   "execution_count": 58,
   "metadata": {},
   "outputs": [
    {
     "name": "stdout",
     "output_type": "stream",
     "text": [
      "there 's only a 2 percent mortality rate , fang wrote .\n",
      "2 percent is enough , i wrote .\n",
      "as a one-time federal agent , i knew that nearly 90 percent of all legally produced pornographic films made in the united states were produced in studios based in the san fernando valley , of which simi valley was the heart .\n",
      "casey ge ; percent '' > casstured to one of the mismatched chairs settled around the fire , and i perched on the edge .\n",
      "the wooden pew turned to splinters in henry 's grip , and his body0 percent '' and his went cold .\n",
      "`` doing the right thing c rith= '' 5 percent '' is never nothing , '' said casey .\n",
      "cyborg ratio : 36.28 percent `` is there something specific you 're looking for ? ''\n",
      "percent `` fuck it , '' i growl , and then quickly and callously drain all the energy out of her .\n",
      "i could tell she felt lumpy , because fake christina was skim and sofia was 2 percent .\n",
      "100 percent grated romano cheese .\n",
      "2093\n"
     ]
    }
   ],
   "source": [
    "j = 0\n",
    "for i, line in enumerate(lines):\n",
    "    if line == None:\n",
    "        continue\n",
    "    if bool(re.search(r'\\%', line)):\n",
    "        lines[i] = re.sub(r'\\%', r'percent', line)\n",
    "        if j < 10:\n",
    "            print(lines[i])\n",
    "        j += 1"
   ]
  },
  {
   "cell_type": "code",
   "execution_count": 62,
   "metadata": {},
   "outputs": [
    {
     "name": "stdout",
     "output_type": "stream",
     "text": [
      "i initially downloaded book 1 because it was free and before i was done i had purchased the book 2 and 3 bundle .\n",
      "armed security men clad in black windbreakers patrolled the concrete walkway that curved the length of the exclusive private marina , the unmistakable outline of heckler and koch ump submachine guns a silent testament to their intent .\n",
      "many snipers preferred the smaller .338 caliber rifles for precision , and the official sniper rifle for the marines was the heckler and koch psg1 firing a 7.65 millimeter round .\n",
      "chapter 5 ten and a half years ago , veracruz , mexico the battered , rusting hull of the freighter ground against the old tires fastened to the concrete dock at one of the more remote cargo offloading piers on veracruz harbor .\n",
      "chapter 4 marn rocks and crysta-lins the path ended abruptly at a wall of rock .\n",
      "the pervert is like oh s and *^ percent when he realizes we are all after him .\n",
      "this would end the fight , but the other guy gets up and does the same resulting in the other guy getting ran the ^ and *^ over .\n",
      "i keep my gaze out the window , noting a mom and pop antique shop pressed between a kfc and a boxy off-colored walgreens .\n",
      "ollie and sven .\n",
      "4413\n"
     ]
    }
   ],
   "source": [
    "j = 0\n",
    "for i, line in enumerate(lines):\n",
    "    if line == None:\n",
    "        continue\n",
    "    if bool(re.search(r'\\&', line)):\n",
    "        lines[i] = re.sub(r'\\&', r'and', line)\n",
    "        j += 1\n",
    "        if j < 10:\n",
    "            print(lines[i])\n",
    "print(j)"
   ]
  },
  {
   "cell_type": "code",
   "execution_count": 87,
   "metadata": {},
   "outputs": [],
   "source": [
    "def search_n(c, lines, n):\n",
    "    j = 0\n",
    "    for line in lines:\n",
    "        if line == None:\n",
    "            continue\n",
    "        if bool(re.search(c, line)):\n",
    "            print(line)\n",
    "            j+=1\n",
    "        if j >= n:\n",
    "            break\n",
    "            \n",
    "def find_all(c, lines):\n",
    "    j = 0\n",
    "    for line in lines:\n",
    "        if line == None:\n",
    "            continue\n",
    "        if bool(re.search(c, line)):\n",
    "            j+=1\n",
    "    return j"
   ]
  },
  {
   "cell_type": "code",
   "execution_count": 75,
   "metadata": {},
   "outputs": [
    {
     "name": "stdout",
     "output_type": "stream",
     "text": [
      "they said that i would betray you all and be kojas ' servant .\n",
      "obviously , why else would they say that the 'king ' would underestimate them ?\n",
      "i do n't know but i have a feeling that they were n't on kojas ' side , he replied .\n",
      "was the 'beware of the shadows ' that important ?\n",
      "we 're part of kojas ' personal guard .\n",
      "what do you mean 'flying ' , emily ?\n",
      "what do you mean , 'what ' ?\n",
      "would n't it be called 'an breakable bond ' , then ?\n",
      "it means , 'slayer of worlds ' .\n",
      "he would take his stuff from his parents ' house and leave .\n",
      "`` we 'll be there any second , '' he told them , much too chipper after being cooped up in the jeep all day .\n",
      "`` i can never get over how lucky you are , '' noah was going on .\n",
      "`` i think i 'm getting a cold , '' nazaret announced smally from wara 's side .\n",
      "`` i hov i can still help you wif de kids , '' she sniffled , bleary hazel eyes turned on noah , who patted her on the white knit cap with a few encouraging words .\n",
      "`` coming through , '' nazaret 's father followed him , hauling a second bag of something edible .\n",
      "wara had already seen him in action many times during the five years they 'd been friends , teaching bible stories to kids at the martirs ' aids center or hanging out with a little homeless kid in downtown cochabamba .\n",
      "when the story was over , she could see in the kids ' eyes that they had imagined every peal of thunder , felt the shuddering of the splintered wooden boat on the open sea .\n",
      "`` that we wo n't have enough to eat if hail destroys the crops , '' mumbled one almond-eyed little boy in a jade chullu cap .\n",
      "she had never heard anyone refer to someone who died as `` the missing '' before in quechua , but maybe it was a regional idiom .\n",
      "`` you know , when i was little , '' he told the kids , `` there was this dog that lived a few houses away from mine , and he had really , really big teeth . ''\n"
     ]
    }
   ],
   "source": [
    "search_n(r'\\'\\s', lines, 20)"
   ]
  },
  {
   "cell_type": "code",
   "execution_count": 76,
   "metadata": {},
   "outputs": [
    {
     "name": "stdout",
     "output_type": "stream",
     "text": [
      "it didnt actually include you or anyone else , so i did nt say anything .\n",
      "they said that i would betray you all and be kojas  servant .\n",
      "i do nt know what to do jazell ; i do nt even know if those things are true .\n",
      "they wo nt attack me and i swear , if you gave them a minute , i bet they would help me .\n",
      "i do nt know what to say seth , i said .\n",
      "maybe you should nt worry , maybe they re wrong .\n",
      "if you say it wo nt happen , it wo nt .\n",
      "i hope you re right , he said .\n",
      "uh seth i do nt think this is the best time to mention this but i think we have company .\n",
      "13400884\n"
     ]
    }
   ],
   "source": [
    "j = 0\n",
    "for i, line in enumerate(lines):\n",
    "    if line == None:\n",
    "        continue\n",
    "    if bool(re.search(r'\\'', line)):\n",
    "        lines[i] = re.sub(r'\\'', '', line)\n",
    "        j+=1\n",
    "        if j < 10:\n",
    "            print(lines[i])\n",
    "print(j)"
   ]
  },
  {
   "cell_type": "code",
   "execution_count": 84,
   "metadata": {},
   "outputs": [
    {
     "name": "stdout",
     "output_type": "stream",
     "text": [
      "13657843\n"
     ]
    }
   ],
   "source": [
    "for i, line in enumerate(lines):\n",
    "    if line == None:\n",
    "        continue\n",
    "    if bool(re.search(r'\\*', line)):\n",
    "        lines[i] = re.sub(r'\\*', '', line)\n",
    "        j+=1\n",
    "print(j)"
   ]
  },
  {
   "cell_type": "code",
   "execution_count": 85,
   "metadata": {},
   "outputs": [
    {
     "name": "stdout",
     "output_type": "stream",
     "text": [
      "1 girl + 1 prom + 3 guys = prom impossible !\n",
      "well , you know these mayan symbols are from around 8000 bc , these glyphs are from around 2000 bc , greek , latin ... all of them , especially the extinct languages , correspond to that general time period when the language was in use , but some ive never seen , like one at -3350 , +4570 , -566 , etc .\n",
      "even some of the vacationing adventurers play , though arguments about what the hell is a +7 holy sword ?\n",
      "he claimed to be a 12th level fighter , whatever that was , with a +8 holy sword , again , whatever that was .\n",
      "not an a+ but not an f , either .\n",
      "i mean i barely got an a + in your class .\n",
      "for example 4957 , the 4 + 5 = 9 added to the 9 = 18 which in turn becomes 9 ( 1+8 ) , add that to the 7 = 16 which in turn becomes 7 the only number left from the original group , and this works with any group of numbers .\n",
      "aahh , i see , 4+5 .\n",
      "meanwhile , more than 30,000 mexican citizens have died [ 40,000+ through 2011 ] in drug-related violence since 2006 , and the violence shows no signs of abating ... last patrol border patrol agent randy firth was driving down a rugged dirt path in the texas desert at midnight , patrolling a remote section of wingo reserve road near the rio grande river , which was barely a stream separating el paso from juarez mexico .\n",
      "i know perl and c++ !\n"
     ]
    }
   ],
   "source": [
    "search_n(r'\\+', lines, 10)"
   ]
  },
  {
   "cell_type": "code",
   "execution_count": 88,
   "metadata": {},
   "outputs": [
    {
     "data": {
      "text/plain": [
       "745"
      ]
     },
     "execution_count": 88,
     "metadata": {},
     "output_type": "execute_result"
    }
   ],
   "source": [
    "find_all(r'\\+', lines)"
   ]
  },
  {
   "cell_type": "code",
   "execution_count": 89,
   "metadata": {},
   "outputs": [],
   "source": [
    "for i, line in enumerate(lines):\n",
    "    if line == None:\n",
    "        continue\n",
    "    if bool(re.search(r'\\+', line)):\n",
    "        lines[i] = None"
   ]
  },
  {
   "cell_type": "code",
   "execution_count": 93,
   "metadata": {},
   "outputs": [
    {
     "name": "stdout",
     "output_type": "stream",
     "text": [
      "emily stopped in mid-sentence when she noticed me sitting beside her .\n",
      "thanks tattle-tale seth .\n",
      "if i didnt know it was jason , i would have taken a huge step backwards at his assassin-like appearance .\n",
      "he said , he will destroy all half-lings .\n",
      "she added the last bullet ; toad dwarf said to jason , he will destroy all half-ling .\n",
      "what does half-ling mean ?\n",
      "toad dwarf said to jason , he will destroy all half-ling .\n",
      "what does half-ling mean ?\n",
      "emily flashed me one of her million-watt smiles .\n",
      "i looked down at emilys pajamas , which were covered in sun-tanning penguins .\n"
     ]
    }
   ],
   "source": [
    "search_n(r'\\-', lines, 10)"
   ]
  },
  {
   "cell_type": "code",
   "execution_count": 95,
   "metadata": {},
   "outputs": [
    {
     "name": "stdout",
     "output_type": "stream",
     "text": [
      "he seemed to go back to say a few words and then say nothing which drives everyone crazy .\n",
      "i pulled an arrow out faster than you could say oh my god theres a hideous monster coming to whip our butts .\n",
      "`` i w w was in a bus accident ,  she managed to say , in perfect spanish .\n",
      "he swiveled his attention to the hull , where he could just make out heads popping up here and there , like a nocturnal version of whack a mole at a fairground stall .\n",
      "lonnie just gave her an ill do what i want look , but ricky tried to make an adjustment .\n",
      "taking the creaky wooden stairs two at a time , i climbed to the third story .\n",
      "he says its not safe to eat anywhere so im gon na get my food and go to h o m e and spelled it out for the illiterate .\n",
      "so they go to his h o m e and enter it .\n",
      "he says damn it a guy is not safe from these homos even at h o m e. again for the illiterate thats home , haha .\n",
      "1538723\n"
     ]
    }
   ],
   "source": [
    "j = 0\n",
    "for i, line in enumerate(lines):\n",
    "    if line == None:\n",
    "        continue\n",
    "    if bool(re.search(r'\\w\\-\\w', line)):\n",
    "        lines[i] = re.sub(r'(\\w)\\-(\\w)', r'\\1 \\2', line)\n",
    "        j+=1\n",
    "        if j < 10:\n",
    "            print(lines[i])\n",
    "print(j)"
   ]
  },
  {
   "cell_type": "code",
   "execution_count": 99,
   "metadata": {},
   "outputs": [
    {
     "name": "stdout",
     "output_type": "stream",
     "text": [
      "to take control of our world , and the gift less ones as well .\n",
      "they say i signed up for some camp and i know the same thing happened to me , i interrupted her quickly .\n",
      "but the thing is we dont know where this meeting place is and she was cut off by the ringing of my phone .\n",
      "well , she said thoughtfully , i was thinking about kojas emily dont say his name , i dont feel like being yelled at again .\n",
      "he got us here and he s leaving us here in some random place when we have no clue what to do or where we re going , seth interrupted me .\n",
      "unless you two were not talking god no , emily !\n",
      "what if kojas comes for you and they have no clue why no !\n",
      "but you still refuse to let me no , he said sternly .\n",
      "youre not going to fall what do you mean , seth ?\n",
      "404253\n"
     ]
    }
   ],
   "source": [
    "j = 0\n",
    "for i, line in enumerate(lines):\n",
    "    if line == None:\n",
    "        continue\n",
    "    if bool(re.search(r'\\-', line)):\n",
    "        lines[i] = re.sub(r'\\-', '', line)\n",
    "        j+=1\n",
    "        if j < 10:\n",
    "            print(lines[i])\n",
    "print(j)"
   ]
  },
  {
   "cell_type": "code",
   "execution_count": 105,
   "metadata": {},
   "outputs": [
    {
     "data": {
      "text/plain": [
       "21778"
      ]
     },
     "execution_count": 105,
     "metadata": {},
     "output_type": "execute_result"
    }
   ],
   "source": [
    "find_all(r'\\/', lines)"
   ]
  },
  {
   "cell_type": "code",
   "execution_count": 106,
   "metadata": {},
   "outputs": [
    {
     "name": "stdout",
     "output_type": "stream",
     "text": [
      "21778\n"
     ]
    }
   ],
   "source": [
    "j = 0\n",
    "for i, line in enumerate(lines):\n",
    "    if line == None:\n",
    "        continue\n",
    "    if bool(re.search(r'\\/', line)):\n",
    "        lines[i] = None\n",
    "        j += 1\n",
    "print(j)"
   ]
  },
  {
   "cell_type": "code",
   "execution_count": 142,
   "metadata": {},
   "outputs": [
    {
     "name": "stdout",
     "output_type": "stream",
     "text": [
      "51176\n"
     ]
    }
   ],
   "source": [
    "j = 0\n",
    "for line in lines:\n",
    "    if line == None:\n",
    "        j+= 1\n",
    "print(j)"
   ]
  },
  {
   "cell_type": "code",
   "execution_count": 114,
   "metadata": {},
   "outputs": [
    {
     "name": "stdout",
     "output_type": "stream",
     "text": [
      "261\n"
     ]
    }
   ],
   "source": [
    "j = 0\n",
    "for i, line in enumerate(lines):\n",
    "    if line == None:\n",
    "        continue\n",
    "    if bool(re.search(r'[^\\s\\d]\\:|\\:[^\\s\\d]', line)):\n",
    "        lines[i] = None\n",
    "        j+=1\n",
    "print(j)"
   ]
  },
  {
   "cell_type": "code",
   "execution_count": 120,
   "metadata": {},
   "outputs": [
    {
     "data": {
      "text/plain": [
       "2016"
      ]
     },
     "execution_count": 120,
     "metadata": {},
     "output_type": "execute_result"
    }
   ],
   "source": [
    "find_all(r'\\<', lines)"
   ]
  },
  {
   "cell_type": "code",
   "execution_count": 121,
   "metadata": {},
   "outputs": [
    {
     "name": "stdout",
     "output_type": "stream",
     "text": [
      "4463\n"
     ]
    }
   ],
   "source": [
    "j = 0\n",
    "for i, line in enumerate(lines):\n",
    "    if line == None:\n",
    "        continue\n",
    "    if bool(re.search(r'\\<|\\>', line)):\n",
    "        lines[i] = None\n",
    "        j+=1\n",
    "print(j)"
   ]
  },
  {
   "cell_type": "code",
   "execution_count": 122,
   "metadata": {},
   "outputs": [
    {
     "data": {
      "text/plain": [
       "1321"
      ]
     },
     "execution_count": 122,
     "metadata": {},
     "output_type": "execute_result"
    }
   ],
   "source": [
    "find_all(r'\\=', lines)"
   ]
  },
  {
   "cell_type": "code",
   "execution_count": 123,
   "metadata": {},
   "outputs": [
    {
     "name": "stdout",
     "output_type": "stream",
     "text": [
      "1321\n"
     ]
    }
   ],
   "source": [
    "j = 0\n",
    "for i, line in enumerate(lines):\n",
    "    if line == None:\n",
    "        continue\n",
    "    if bool(re.search(r'\\=', line)):\n",
    "        lines[i] = None\n",
    "        j+=1\n",
    "print(j)"
   ]
  },
  {
   "cell_type": "code",
   "execution_count": 125,
   "metadata": {},
   "outputs": [
    {
     "name": "stdout",
     "output_type": "stream",
     "text": [
      "3942\n"
     ]
    }
   ],
   "source": [
    "j = 0\n",
    "for i, line in enumerate(lines):\n",
    "    if line == None:\n",
    "        continue\n",
    "    if bool(re.search(r'\\@', line)):\n",
    "        lines[i] = None\n",
    "        j+=1\n",
    "print(j)"
   ]
  },
  {
   "cell_type": "code",
   "execution_count": 127,
   "metadata": {},
   "outputs": [
    {
     "data": {
      "text/plain": [
       "5400"
      ]
     },
     "execution_count": 127,
     "metadata": {},
     "output_type": "execute_result"
    }
   ],
   "source": [
    "find_all(r'\\[', lines)"
   ]
  },
  {
   "cell_type": "code",
   "execution_count": 129,
   "metadata": {},
   "outputs": [
    {
     "name": "stdout",
     "output_type": "stream",
     "text": [
      "6514\n"
     ]
    }
   ],
   "source": [
    "j = 0\n",
    "for i, line in enumerate(lines):\n",
    "    if line == None:\n",
    "        continue\n",
    "    if bool(re.search(r'\\[|\\]', line)):\n",
    "        lines[i] = None\n",
    "        j+=1\n",
    "print(j)"
   ]
  },
  {
   "cell_type": "code",
   "execution_count": 130,
   "metadata": {},
   "outputs": [
    {
     "name": "stdout",
     "output_type": "stream",
     "text": [
      "214\n"
     ]
    }
   ],
   "source": [
    "j = 0\n",
    "for i, line in enumerate(lines):\n",
    "    if line == None:\n",
    "        continue\n",
    "    if bool(re.search(r'\\\\', line)):\n",
    "        lines[i] = None\n",
    "        j+=1\n",
    "print(j)"
   ]
  },
  {
   "cell_type": "code",
   "execution_count": 131,
   "metadata": {},
   "outputs": [
    {
     "name": "stdout",
     "output_type": "stream",
     "text": [
      "138\n"
     ]
    }
   ],
   "source": [
    "j = 0\n",
    "for i, line in enumerate(lines):\n",
    "    if line == None:\n",
    "        continue\n",
    "    if bool(re.search(r'\\^', line)):\n",
    "        lines[i] = None\n",
    "        j+=1\n",
    "print(j)"
   ]
  },
  {
   "cell_type": "code",
   "execution_count": 132,
   "metadata": {},
   "outputs": [
    {
     "name": "stdout",
     "output_type": "stream",
     "text": [
      "2405\n"
     ]
    }
   ],
   "source": [
    "j = 0\n",
    "for i, line in enumerate(lines):\n",
    "    if line == None:\n",
    "        continue\n",
    "    if bool(re.search(r'\\_', line)):\n",
    "        lines[i] = None\n",
    "        j+=1\n",
    "print(j)"
   ]
  },
  {
   "cell_type": "code",
   "execution_count": 136,
   "metadata": {},
   "outputs": [
    {
     "name": "stdout",
     "output_type": "stream",
     "text": [
      "7512948\n"
     ]
    }
   ],
   "source": [
    "j = 0\n",
    "for i, line in enumerate(lines):\n",
    "    if line == None:\n",
    "        continue\n",
    "    if bool(re.search(r'\\`', line)):\n",
    "        lines[i] = re.sub(r'\\`', '', line)\n",
    "        j+=1\n",
    "print(j)"
   ]
  },
  {
   "cell_type": "code",
   "execution_count": 138,
   "metadata": {},
   "outputs": [
    {
     "data": {
      "text/plain": [
       "1676"
      ]
     },
     "execution_count": 138,
     "metadata": {},
     "output_type": "execute_result"
    }
   ],
   "source": [
    "find_all(r'\\{', lines)"
   ]
  },
  {
   "cell_type": "code",
   "execution_count": 139,
   "metadata": {},
   "outputs": [
    {
     "data": {
      "text/plain": [
       "214"
      ]
     },
     "execution_count": 139,
     "metadata": {},
     "output_type": "execute_result"
    }
   ],
   "source": [
    "find_all(r'\\|', lines)"
   ]
  },
  {
   "cell_type": "code",
   "execution_count": 140,
   "metadata": {},
   "outputs": [
    {
     "data": {
      "text/plain": [
       "8993"
      ]
     },
     "execution_count": 140,
     "metadata": {},
     "output_type": "execute_result"
    }
   ],
   "source": [
    "find_all(r'\\~', lines)"
   ]
  },
  {
   "cell_type": "code",
   "execution_count": 141,
   "metadata": {},
   "outputs": [
    {
     "name": "stdout",
     "output_type": "stream",
     "text": [
      "9206\n"
     ]
    }
   ],
   "source": [
    "j = 0\n",
    "for i, line in enumerate(lines):\n",
    "    if line == None:\n",
    "        continue\n",
    "    if bool(re.search(r'\\`|\\||\\~', line)):\n",
    "        lines[i] = None\n",
    "        j+=1\n",
    "print(j)"
   ]
  },
  {
   "cell_type": "code",
   "execution_count": 143,
   "metadata": {},
   "outputs": [
    {
     "data": {
      "text/plain": [
       "39932855"
      ]
     },
     "execution_count": 143,
     "metadata": {},
     "output_type": "execute_result"
    }
   ],
   "source": [
    "lines = list(filter(None, lines))\n",
    "len(lines)"
   ]
  },
  {
   "cell_type": "code",
   "execution_count": 146,
   "metadata": {},
   "outputs": [
    {
     "data": {
      "text/plain": [
       "315919"
      ]
     },
     "execution_count": 146,
     "metadata": {},
     "output_type": "execute_result"
    }
   ],
   "source": [
    "find_all(r'[a-z]*[^\\w\\s]+[a-z]+|[a-z]+[^\\w\\s]+[a-z]*', lines)"
   ]
  },
  {
   "cell_type": "code",
   "execution_count": 147,
   "metadata": {},
   "outputs": [
    {
     "name": "stdout",
     "output_type": "stream",
     "text": [
      "315919\n"
     ]
    }
   ],
   "source": [
    "j = 0\n",
    "for i, line in enumerate(lines):\n",
    "    if line == None:\n",
    "        continue\n",
    "    if bool(re.search(r'[a-z]*[^\\w\\s]+[a-z]+|[a-z]+[^\\w\\s]+[a-z]*', line)):\n",
    "        lines[i] = None\n",
    "        j+=1\n",
    "print(j)"
   ]
  },
  {
   "cell_type": "code",
   "execution_count": 148,
   "metadata": {},
   "outputs": [
    {
     "data": {
      "text/plain": [
       "39616936"
      ]
     },
     "execution_count": 148,
     "metadata": {},
     "output_type": "execute_result"
    }
   ],
   "source": [
    "lines = list(filter(None, lines))\n",
    "len(lines)"
   ]
  },
  {
   "cell_type": "code",
   "execution_count": 149,
   "metadata": {},
   "outputs": [],
   "source": [
    "data_str = \"\\n\".join(lines)"
   ]
  },
  {
   "cell_type": "code",
   "execution_count": 150,
   "metadata": {},
   "outputs": [
    {
     "data": {
      "text/plain": [
       "{'\\n',\n",
       " ' ',\n",
       " '!',\n",
       " '(',\n",
       " ')',\n",
       " ',',\n",
       " '.',\n",
       " '0',\n",
       " '1',\n",
       " '2',\n",
       " '3',\n",
       " '4',\n",
       " '5',\n",
       " '6',\n",
       " '7',\n",
       " '8',\n",
       " '9',\n",
       " ':',\n",
       " ';',\n",
       " '?',\n",
       " 'a',\n",
       " 'b',\n",
       " 'c',\n",
       " 'd',\n",
       " 'e',\n",
       " 'f',\n",
       " 'g',\n",
       " 'h',\n",
       " 'i',\n",
       " 'j',\n",
       " 'k',\n",
       " 'l',\n",
       " 'm',\n",
       " 'n',\n",
       " 'o',\n",
       " 'p',\n",
       " 'q',\n",
       " 'r',\n",
       " 's',\n",
       " 't',\n",
       " 'u',\n",
       " 'v',\n",
       " 'w',\n",
       " 'x',\n",
       " 'y',\n",
       " 'z',\n",
       " '{',\n",
       " '}'}"
      ]
     },
     "execution_count": 150,
     "metadata": {},
     "output_type": "execute_result"
    }
   ],
   "source": [
    "char_list = set(data_str)\n",
    "char_list"
   ]
  },
  {
   "cell_type": "code",
   "execution_count": 151,
   "metadata": {},
   "outputs": [
    {
     "name": "stdout",
     "output_type": "stream",
     "text": [
      "2248\n"
     ]
    }
   ],
   "source": [
    "j = 0\n",
    "for i, line in enumerate(lines):\n",
    "    if line == None:\n",
    "        continue\n",
    "    if bool(re.search(r'\\{|\\}', line)):\n",
    "        lines[i] = None\n",
    "        j+=1\n",
    "print(j)"
   ]
  },
  {
   "cell_type": "code",
   "execution_count": 152,
   "metadata": {},
   "outputs": [],
   "source": [
    "lines = list(filter(None, lines))"
   ]
  },
  {
   "cell_type": "code",
   "execution_count": 153,
   "metadata": {},
   "outputs": [
    {
     "data": {
      "text/plain": [
       "39614688"
      ]
     },
     "execution_count": 153,
     "metadata": {},
     "output_type": "execute_result"
    }
   ],
   "source": [
    "len(lines)"
   ]
  },
  {
   "cell_type": "code",
   "execution_count": 154,
   "metadata": {},
   "outputs": [],
   "source": [
    "data_str = \"\\n\".join(lines)"
   ]
  },
  {
   "cell_type": "code",
   "execution_count": 159,
   "metadata": {},
   "outputs": [],
   "source": [
    "for i, line in enumerate(lines):\n",
    "    lines[i] = line.strip()"
   ]
  },
  {
   "cell_type": "code",
   "execution_count": 164,
   "metadata": {},
   "outputs": [
    {
     "name": "stdout",
     "output_type": "stream",
     "text": [
      "0\n"
     ]
    }
   ],
   "source": [
    "j = 0\n",
    "for i, line in enumerate(lines):\n",
    "    if bool(re.search(r' {2,}', line)):\n",
    "        lines[i] = re.sub(r' {2,}', ' ', line)\n",
    "        j+=1\n",
    "        if j < 20:\n",
    "            print(line, lines[i])\n",
    "print(j)"
   ]
  },
  {
   "cell_type": "code",
   "execution_count": 165,
   "metadata": {},
   "outputs": [],
   "source": [
    "data_str = \"\\n\".join(lines)\n",
    "f = open(\"temp.txt\", 'w')\n",
    "f.write(data_str)\n",
    "f.close()"
   ]
  },
  {
   "cell_type": "code",
   "execution_count": null,
   "metadata": {},
   "outputs": [],
   "source": []
  }
 ],
 "metadata": {
  "kernelspec": {
   "display_name": "Python 3",
   "language": "python",
   "name": "python3"
  },
  "language_info": {
   "codemirror_mode": {
    "name": "ipython",
    "version": 3
   },
   "file_extension": ".py",
   "mimetype": "text/x-python",
   "name": "python",
   "nbconvert_exporter": "python",
   "pygments_lexer": "ipython3",
   "version": "3.7.6"
  }
 },
 "nbformat": 4,
 "nbformat_minor": 4
}
