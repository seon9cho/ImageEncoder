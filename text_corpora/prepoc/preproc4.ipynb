{
 "cells": [
  {
   "cell_type": "code",
   "execution_count": 1,
   "metadata": {},
   "outputs": [],
   "source": [
    "import re\n",
    "from collections import Counter"
   ]
  },
  {
   "cell_type": "code",
   "execution_count": 211,
   "metadata": {},
   "outputs": [],
   "source": [
    "data = open(\"temp5.txt\", encoding='utf-8').read().strip()\n",
    "lines = data.split('\\n')"
   ]
  },
  {
   "cell_type": "code",
   "execution_count": 212,
   "metadata": {},
   "outputs": [
    {
     "data": {
      "text/plain": [
       "38014679"
      ]
     },
     "execution_count": 212,
     "metadata": {},
     "output_type": "execute_result"
    }
   ],
   "source": [
    "len(lines)"
   ]
  },
  {
   "cell_type": "code",
   "execution_count": 213,
   "metadata": {},
   "outputs": [],
   "source": [
    "vocab = Counter()\n",
    "for l in lines:\n",
    "    for w in l.split():\n",
    "        vocab[w] += 1"
   ]
  },
  {
   "cell_type": "code",
   "execution_count": 214,
   "metadata": {},
   "outputs": [
    {
     "data": {
      "text/plain": [
       "73269"
      ]
     },
     "execution_count": 214,
     "metadata": {},
     "output_type": "execute_result"
    }
   ],
   "source": [
    "len(vocab)"
   ]
  },
  {
   "cell_type": "code",
   "execution_count": 215,
   "metadata": {},
   "outputs": [],
   "source": [
    "freq_vocab = vocab.most_common()"
   ]
  },
  {
   "cell_type": "code",
   "execution_count": 216,
   "metadata": {},
   "outputs": [],
   "source": [
    "freq_cntr = Counter()\n",
    "for w in freq_vocab:\n",
    "    freq_cntr[w[1]] += 1"
   ]
  },
  {
   "cell_type": "code",
   "execution_count": 217,
   "metadata": {},
   "outputs": [],
   "source": [
    "import numpy as np\n",
    "import matplotlib.pyplot as plt"
   ]
  },
  {
   "cell_type": "code",
   "execution_count": 218,
   "metadata": {},
   "outputs": [],
   "source": [
    "xy = np.array(sorted(freq_cntr.most_common()))"
   ]
  },
  {
   "cell_type": "code",
   "execution_count": 219,
   "metadata": {},
   "outputs": [
    {
     "data": {
      "text/plain": [
       "[<matplotlib.lines.Line2D at 0x1802a28f6c8>]"
      ]
     },
     "execution_count": 219,
     "metadata": {},
     "output_type": "execute_result"
    },
    {
     "data": {
      "image/png": "[encoded data removed]",
      "text/plain": [
       "<Figure size 432x288 with 1 Axes>"
      ]
     },
     "metadata": {
      "needs_background": "light"
     },
     "output_type": "display_data"
    }
   ],
   "source": [
    "plt.loglog(xy[:, 0], xy[:, 1])"
   ]
  },
  {
   "cell_type": "code",
   "execution_count": 220,
   "metadata": {},
   "outputs": [
    {
     "data": {
      "text/plain": [
       "array([[  9,   1],\n",
       "       [ 10,   2],\n",
       "       [ 11,   4],\n",
       "       [ 12,  12],\n",
       "       [ 13,   5],\n",
       "       [ 14,  18],\n",
       "       [ 15,   4],\n",
       "       [ 16,  21],\n",
       "       [ 17,   9],\n",
       "       [ 18,  29],\n",
       "       [ 19,  16],\n",
       "       [ 20,  24],\n",
       "       [ 21,  27],\n",
       "       [ 22,  44],\n",
       "       [ 23,  21],\n",
       "       [ 24,  63],\n",
       "       [ 25,  77],\n",
       "       [ 26, 134],\n",
       "       [ 27, 159],\n",
       "       [ 28, 273],\n",
       "       [ 29, 375],\n",
       "       [ 30, 620],\n",
       "       [ 31, 859],\n",
       "       [ 32, 788],\n",
       "       [ 33, 739],\n",
       "       [ 34, 828],\n",
       "       [ 35, 669],\n",
       "       [ 36, 672],\n",
       "       [ 37, 618],\n",
       "       [ 38, 687],\n",
       "       [ 39, 596],\n",
       "       [ 40, 590],\n",
       "       [ 41, 570],\n",
       "       [ 42, 589],\n",
       "       [ 43, 561],\n",
       "       [ 44, 572],\n",
       "       [ 45, 492],\n",
       "       [ 46, 567],\n",
       "       [ 47, 447],\n",
       "       [ 48, 512],\n",
       "       [ 49, 458],\n",
       "       [ 50, 515],\n",
       "       [ 51, 479],\n",
       "       [ 52, 440],\n",
       "       [ 53, 422],\n",
       "       [ 54, 418],\n",
       "       [ 55, 380],\n",
       "       [ 56, 402],\n",
       "       [ 57, 377],\n",
       "       [ 58, 398]])"
      ]
     },
     "execution_count": 220,
     "metadata": {},
     "output_type": "execute_result"
    }
   ],
   "source": [
    "xy[:50]"
   ]
  },
  {
   "cell_type": "code",
   "execution_count": 204,
   "metadata": {},
   "outputs": [],
   "source": [
    "lf_vocab = []\n",
    "for word, freq in freq_vocab[::-1]:\n",
    "    if freq > 10: break\n",
    "    lf_vocab.append(word)"
   ]
  },
  {
   "cell_type": "code",
   "execution_count": 206,
   "metadata": {},
   "outputs": [],
   "source": [
    "lf_vocab = set(lf_vocab)"
   ]
  },
  {
   "cell_type": "code",
   "execution_count": 207,
   "metadata": {},
   "outputs": [
    {
     "data": {
      "text/plain": [
       "282"
      ]
     },
     "execution_count": 207,
     "metadata": {},
     "output_type": "execute_result"
    }
   ],
   "source": [
    "j = 0\n",
    "for i, l in enumerate(lines):\n",
    "    curr_unks = lf_vocab.intersection(set(l.split()))\n",
    "    if curr_unks:\n",
    "        lines[i] = None\n",
    "        j+=1\n",
    "j"
   ]
  },
  {
   "cell_type": "code",
   "execution_count": 208,
   "metadata": {},
   "outputs": [
    {
     "data": {
      "text/plain": [
       "38014679"
      ]
     },
     "execution_count": 208,
     "metadata": {},
     "output_type": "execute_result"
    }
   ],
   "source": [
    "lines = list(filter(None, lines))\n",
    "len(lines)"
   ]
  },
  {
   "cell_type": "code",
   "execution_count": 209,
   "metadata": {},
   "outputs": [],
   "source": [
    "data = \"\\n\".join(lines)"
   ]
  },
  {
   "cell_type": "code",
   "execution_count": 210,
   "metadata": {},
   "outputs": [],
   "source": [
    "f = open(\"temp5.txt\", 'w')\n",
    "f.write(data)\n",
    "f.close()"
   ]
  },
  {
   "cell_type": "code",
   "execution_count": null,
   "metadata": {},
   "outputs": [],
   "source": []
  }
 ],
 "metadata": {
  "kernelspec": {
   "display_name": "Python 3",
   "language": "python",
   "name": "python3"
  },
  "language_info": {
   "codemirror_mode": {
    "name": "ipython",
    "version": 3
   },
   "file_extension": ".py",
   "mimetype": "text/x-python",
   "name": "python",
   "nbconvert_exporter": "python",
   "pygments_lexer": "ipython3",
   "version": "3.7.6"
  }
 },
 "nbformat": 4,
 "nbformat_minor": 4
}
