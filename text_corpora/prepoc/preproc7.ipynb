{
 "cells": [
  {
   "cell_type": "code",
   "execution_count": 41,
   "metadata": {},
   "outputs": [],
   "source": [
    "import re\n",
    "from collections import Counter\n",
    "from random import shuffle\n",
    "import matplotlib.pyplot as plt\n",
    "import enchant\n",
    "import re\n",
    "from random import shuffle"
   ]
  },
  {
   "cell_type": "code",
   "execution_count": 2,
   "metadata": {},
   "outputs": [],
   "source": [
    "data = open(\"../other/books_clean.txt\", encoding='utf-8').read().strip()\n",
    "lines = data.split('\\n')"
   ]
  },
  {
   "cell_type": "code",
   "execution_count": 3,
   "metadata": {},
   "outputs": [
    {
     "data": {
      "text/plain": [
       "37416018"
      ]
     },
     "execution_count": 3,
     "metadata": {},
     "output_type": "execute_result"
    }
   ],
   "source": [
    "len(lines)"
   ]
  },
  {
   "cell_type": "code",
   "execution_count": 4,
   "metadata": {},
   "outputs": [],
   "source": [
    "vocab = set(data.split())"
   ]
  },
  {
   "cell_type": "code",
   "execution_count": 5,
   "metadata": {},
   "outputs": [
    {
     "data": {
      "text/plain": [
       "73264"
      ]
     },
     "execution_count": 5,
     "metadata": {},
     "output_type": "execute_result"
    }
   ],
   "source": [
    "len(vocab)"
   ]
  },
  {
   "cell_type": "code",
   "execution_count": 7,
   "metadata": {},
   "outputs": [],
   "source": [
    "lens = [len(line.split()) for line in lines]"
   ]
  },
  {
   "cell_type": "code",
   "execution_count": 8,
   "metadata": {},
   "outputs": [
    {
     "data": {
      "text/plain": [
       "(array([7.488592e+06, 7.109025e+06, 7.552095e+06, 4.308972e+06,\n",
       "        3.307237e+06, 3.081709e+06, 1.527329e+06, 1.303563e+06,\n",
       "        6.023930e+05, 3.971830e+05, 3.237930e+05, 1.483380e+05,\n",
       "        1.212940e+05, 5.565200e+04, 3.739900e+04, 3.050100e+04,\n",
       "        1.201600e+04, 7.073000e+03, 1.451000e+03, 4.030000e+02]),\n",
       " array([ 2. ,  5.4,  8.8, 12.2, 15.6, 19. , 22.4, 25.8, 29.2, 32.6, 36. ,\n",
       "        39.4, 42.8, 46.2, 49.6, 53. , 56.4, 59.8, 63.2, 66.6, 70. ]),\n",
       " <a list of 20 Patch objects>)"
      ]
     },
     "execution_count": 8,
     "metadata": {},
     "output_type": "execute_result"
    },
    {
     "data": {
      "image/png": "[encoded data removed]",
      "text/plain": [
       "<Figure size 432x288 with 1 Axes>"
      ]
     },
     "metadata": {
      "needs_background": "light"
     },
     "output_type": "display_data"
    }
   ],
   "source": [
    "plt.hist(lens, bins=20)"
   ]
  },
  {
   "cell_type": "code",
   "execution_count": 9,
   "metadata": {},
   "outputs": [
    {
     "data": {
      "text/plain": [
       "5938536"
      ]
     },
     "execution_count": 9,
     "metadata": {},
     "output_type": "execute_result"
    }
   ],
   "source": [
    "j = 0\n",
    "for i, l in enumerate(lines):\n",
    "    if len(l.split()) > 20:\n",
    "        lines[i] = None\n",
    "        j+=1\n",
    "j"
   ]
  },
  {
   "cell_type": "code",
   "execution_count": 10,
   "metadata": {},
   "outputs": [
    {
     "data": {
      "text/plain": [
       "31477482"
      ]
     },
     "execution_count": 10,
     "metadata": {},
     "output_type": "execute_result"
    }
   ],
   "source": [
    "lines = list(filter(None, lines))\n",
    "len(lines)"
   ]
  },
  {
   "cell_type": "code",
   "execution_count": 11,
   "metadata": {},
   "outputs": [],
   "source": [
    "lens = [len(line.split()) for line in lines]"
   ]
  },
  {
   "cell_type": "code",
   "execution_count": 12,
   "metadata": {},
   "outputs": [
    {
     "data": {
      "text/plain": [
       "(array([1353686., 1801313., 1921979., 2411614., 2445884., 2385587.,\n",
       "        2277554., 2107715., 1950087., 1813086., 1681207., 1554765.,\n",
       "        1433785., 1320422., 1207742., 1099699.,  999796.,  901499.,\n",
       "         810062.]),\n",
       " array([ 2.        ,  2.94736842,  3.89473684,  4.84210526,  5.78947368,\n",
       "         6.73684211,  7.68421053,  8.63157895,  9.57894737, 10.52631579,\n",
       "        11.47368421, 12.42105263, 13.36842105, 14.31578947, 15.26315789,\n",
       "        16.21052632, 17.15789474, 18.10526316, 19.05263158, 20.        ]),\n",
       " <a list of 19 Patch objects>)"
      ]
     },
     "execution_count": 12,
     "metadata": {},
     "output_type": "execute_result"
    },
    {
     "data": {
      "image/png": "[encoded data removed]",
      "text/plain": [
       "<Figure size 432x288 with 1 Axes>"
      ]
     },
     "metadata": {
      "needs_background": "light"
     },
     "output_type": "display_data"
    }
   ],
   "source": [
    "plt.hist(lens, bins=19)"
   ]
  },
  {
   "cell_type": "code",
   "execution_count": 13,
   "metadata": {},
   "outputs": [],
   "source": [
    "lines = list(set(lines))"
   ]
  },
  {
   "cell_type": "code",
   "execution_count": 14,
   "metadata": {},
   "outputs": [],
   "source": [
    "lens = [len(line.split()) for line in lines]"
   ]
  },
  {
   "cell_type": "code",
   "execution_count": 15,
   "metadata": {},
   "outputs": [
    {
     "data": {
      "text/plain": [
       "(array([  59456.,  344291.,  660622., 1182457., 1590156., 1790996.,\n",
       "        1834848., 1766691., 1658398., 1552176., 1443485., 1335053.,\n",
       "        1231659., 1135012., 1038472.,  945833.,  860165.,  775651.,\n",
       "         696943.]),\n",
       " array([ 2.        ,  2.94736842,  3.89473684,  4.84210526,  5.78947368,\n",
       "         6.73684211,  7.68421053,  8.63157895,  9.57894737, 10.52631579,\n",
       "        11.47368421, 12.42105263, 13.36842105, 14.31578947, 15.26315789,\n",
       "        16.21052632, 17.15789474, 18.10526316, 19.05263158, 20.        ]),\n",
       " <a list of 19 Patch objects>)"
      ]
     },
     "execution_count": 15,
     "metadata": {},
     "output_type": "execute_result"
    },
    {
     "data": {
      "image/png": "[encoded data removed]",
      "text/plain": [
       "<Figure size 432x288 with 1 Axes>"
      ]
     },
     "metadata": {
      "needs_background": "light"
     },
     "output_type": "display_data"
    }
   ],
   "source": [
    "plt.hist(lens, bins=19)"
   ]
  },
  {
   "cell_type": "code",
   "execution_count": null,
   "metadata": {},
   "outputs": [],
   "source": []
  },
  {
   "cell_type": "code",
   "execution_count": 24,
   "metadata": {},
   "outputs": [
    {
     "name": "stdout",
     "output_type": "stream",
     "text": [
      "do nt say only as though they are somehow inferior .\n",
      "do nt try to protect me .\n",
      "do nt patronize me , cassey shot back .\n",
      "do nt be modest , sir .\n",
      "do nt scare the sheep .\n",
      "do nt be coy , pearl said .\n",
      "do nt argue , elliot .\n",
      "do nt then there was a click .\n",
      "do nt stay out too long , okay , sport ?\n",
      "do nt point .\n",
      "21640\n"
     ]
    }
   ],
   "source": [
    "j = 0\n",
    "for i, line in enumerate(lines):\n",
    "    if line == None:\n",
    "        continue\n",
    "    if re.search(r'\\bdont\\b', line):\n",
    "        lines[i] = re.sub(r'\\bdont\\b', r'do nt', line)\n",
    "        if j < 10:\n",
    "            print(lines[i])\n",
    "        j += 1\n",
    "print(j)"
   ]
  },
  {
   "cell_type": "code",
   "execution_count": 25,
   "metadata": {},
   "outputs": [
    {
     "name": "stdout",
     "output_type": "stream",
     "text": [
      "did nt you think maybe we could take care of ourselves ?\n",
      "did nt you just say you love me ?\n",
      "did nt you see rudi get out of her rocker chair and run in the kitchen just now ?\n",
      "did nt he realise she would never balance the shops books next year unless she went full term ?\n",
      "did nt i just explain its only until things improve ?\n",
      "did nt they say who it was ?\n",
      "did nt you wonder where he was before now ?\n",
      "did nt this bring these ancient animals to life in some way , make them real ?\n",
      "did nt you see , i threw them in the park .\n",
      "did nt want anything to do with you !\n",
      "2898\n"
     ]
    }
   ],
   "source": [
    "j = 0\n",
    "for i, line in enumerate(lines):\n",
    "    if line == None:\n",
    "        continue\n",
    "    if re.search(r'\\bdidnt\\b', line):\n",
    "        lines[i] = re.sub(r'\\bdidnt\\b', r'did nt', line)\n",
    "        if j < 10:\n",
    "            print(lines[i])\n",
    "        j += 1\n",
    "print(j)"
   ]
  },
  {
   "cell_type": "code",
   "execution_count": 26,
   "metadata": {},
   "outputs": [
    {
     "name": "stdout",
     "output_type": "stream",
     "text": [
      "i could nt believe it , but liam was right .\n",
      "i could nt bear to have him bring that up .\n",
      "we could nt tell if they were lying or telling the truth , a perfect distraction for their hidden agenda .\n",
      "lynn could nt blame him either .\n",
      "my mind could nt keep up with my heart .\n",
      "sorry , i could nt resist having a little joke at your expense .\n",
      "restless throughout the night , she could nt relax and drop into a deep sleep .\n",
      "i laughed softly , and he laughed too , shrugging as if to say it could nt be helped .\n",
      "i could nt find anything that made me believe all the rumors .\n",
      "he could nt remember where but he knew he had seen her before .\n",
      "44896\n"
     ]
    }
   ],
   "source": [
    "j = 0\n",
    "for i, line in enumerate(lines):\n",
    "    if line == None:\n",
    "        continue\n",
    "    if re.search(r'\\bcouldnt\\b', line):\n",
    "        lines[i] = re.sub(r'\\bcouldnt\\b', r'could nt', line)\n",
    "        if j < 10:\n",
    "            print(lines[i])\n",
    "        j += 1\n",
    "print(j)"
   ]
  },
  {
   "cell_type": "code",
   "execution_count": 30,
   "metadata": {},
   "outputs": [
    {
     "name": "stdout",
     "output_type": "stream",
     "text": [
      "i do nt remember you saying how you d like to get things started .\n",
      "you d love it .\n",
      "otherwise , you d be shooting blind , so to speak .\n",
      "well you d best get some rest if you want to be out of here by morning .\n",
      "you d say train , but we do nt have one yet .\n",
      "because catherine lowell was threatening to confiscate them , and you d gone home for the day .\n",
      "i was wondering when you d show up .\n",
      "if you d rather i not , i shant trouble you .\n",
      "then you d better do it quickly , before i chicken out .\n",
      "you d have known if it was a belian .\n",
      "8484\n"
     ]
    }
   ],
   "source": [
    "j = 0\n",
    "for i, line in enumerate(lines):\n",
    "    if line == None:\n",
    "        continue\n",
    "    if re.search(r'\\byoud\\b', line):\n",
    "        lines[i] = re.sub(r'\\byoud\\b', r'you d', line)\n",
    "        if j < 10:\n",
    "            print(lines[i])\n",
    "        j += 1\n",
    "print(j)"
   ]
  },
  {
   "cell_type": "code",
   "execution_count": 31,
   "metadata": {},
   "outputs": [
    {
     "name": "stdout",
     "output_type": "stream",
     "text": [
      "i can smell hot flowing blood , the juice of life , and my stomach is nt turning .\n",
      "is there anyone that is nt willing to make this commitment ?\n",
      "this is nt a hospital .\n",
      "its a long drive , is nt it ?\n",
      "i do nt feel a loss of energy so i know it is nt a demon attacking me .\n",
      "i mean i think it is but maybe it is nt like what i am expecting .\n",
      "christmas is nt looking so good for our family , ariel said .\n",
      "that girl at the concerts gon na sue us , is nt she ?\n",
      "that is the thing now is nt it ?\n",
      "that is your real age is nt it ?\n",
      "19240\n"
     ]
    }
   ],
   "source": [
    "j = 0\n",
    "for i, line in enumerate(lines):\n",
    "    if line == None:\n",
    "        continue\n",
    "    if re.search(r'\\bisnt\\b', line):\n",
    "        lines[i] = re.sub(r'\\bisnt\\b', r'is nt', line)\n",
    "        if j < 10:\n",
    "            print(lines[i])\n",
    "        j += 1\n",
    "print(j)"
   ]
  },
  {
   "cell_type": "code",
   "execution_count": 32,
   "metadata": {},
   "outputs": [
    {
     "name": "stdout",
     "output_type": "stream",
     "text": [
      "i know you re here !\n",
      "you re going to use the word umbrage ?\n",
      "i bet you re a city girl and you do nt even know it , he told me .\n",
      "they like you , but they think you re kind of standoffish , he said with a shrug .\n",
      "stay here but you re not getting paid for this !\n",
      "but you re tessas pa , right ?\n",
      "i have a bad feeling you re doing something you shouldnt .\n",
      "as for others , if you re not criticized , you may not be doing much .\n",
      "you re the first one going in the chamber .\n",
      "you re not here and you re not real !\n",
      "67240\n"
     ]
    }
   ],
   "source": [
    "j = 0\n",
    "for i, line in enumerate(lines):\n",
    "    if line == None:\n",
    "        continue\n",
    "    if re.search(r'\\byoure\\b', line):\n",
    "        lines[i] = re.sub(r'\\byoure\\b', r'you re', line)\n",
    "        if j < 10:\n",
    "            print(lines[i])\n",
    "        j += 1\n",
    "print(j)"
   ]
  },
  {
   "cell_type": "code",
   "execution_count": 33,
   "metadata": {},
   "outputs": [
    {
     "name": "stdout",
     "output_type": "stream",
     "text": [
      "i m sorry if i gave you the wrong impression .\n",
      "i m always up for a trip out of town .\n",
      "judging from your answer , i m guessing you havent seen them , said cole .\n",
      "i m not clean , darcy .\n",
      "no , i m not , franz replied .\n",
      "no , i m okay , she said , dropping his hand from hers .\n",
      "i m sorry , said mordon .\n",
      "back me up if it looks like i m in trouble .\n",
      "but i m telling you , theres no future with herr hauptmann .\n",
      "i m just trying to explain what the rules are and how they can help .\n",
      "132739\n"
     ]
    }
   ],
   "source": [
    "j = 0\n",
    "for i, line in enumerate(lines):\n",
    "    if line == None:\n",
    "        continue\n",
    "    if re.search(r'\\bim\\b', line):\n",
    "        lines[i] = re.sub(r'\\bim\\b', r'i m', line)\n",
    "        if j < 10:\n",
    "            print(lines[i])\n",
    "        j += 1\n",
    "print(j)"
   ]
  },
  {
   "cell_type": "code",
   "execution_count": 36,
   "metadata": {},
   "outputs": [
    {
     "name": "stdout",
     "output_type": "stream",
     "text": [
      "exactly what i ve been trying to tell them .\n",
      "i ve some work coming in .\n",
      "i ve waited so long for this .\n",
      "she was definitely starting to look like she might be just who i ve been looking for .\n",
      "i ve admired it from afar .\n",
      "he repeated , seriously , are you the same amaranthine quinn i ve known for the last four years ?\n",
      "i ve never been rough like that before .\n",
      "its the best i ve got , and in my state , i cant afford to take any chances .\n",
      "i ve never been homesick before .\n",
      "and i ve never seen you look so tired .\n",
      "38396\n"
     ]
    }
   ],
   "source": [
    "j = 0\n",
    "for i, line in enumerate(lines):\n",
    "    if line == None:\n",
    "        continue\n",
    "    if re.search(r'\\bive\\b', line):\n",
    "        lines[i] = re.sub(r'\\bive\\b', r'i ve', line)\n",
    "        if j < 10:\n",
    "            print(lines[i])\n",
    "        j += 1\n",
    "print(j)"
   ]
  },
  {
   "cell_type": "code",
   "execution_count": 40,
   "metadata": {},
   "outputs": [
    {
     "data": {
      "text/plain": [
       "21902364"
      ]
     },
     "execution_count": 40,
     "metadata": {},
     "output_type": "execute_result"
    }
   ],
   "source": [
    "len(lines)"
   ]
  },
  {
   "cell_type": "code",
   "execution_count": 42,
   "metadata": {},
   "outputs": [
    {
     "data": {
      "text/plain": [
       "'i could nt believe it , but liam was right .'"
      ]
     },
     "execution_count": 42,
     "metadata": {},
     "output_type": "execute_result"
    }
   ],
   "source": [
    "lines[0]"
   ]
  },
  {
   "cell_type": "code",
   "execution_count": 43,
   "metadata": {},
   "outputs": [
    {
     "data": {
      "text/plain": [
       "'when they reached magnus s home , magnus laid a hand on the front door and it swung open .'"
      ]
     },
     "execution_count": 43,
     "metadata": {},
     "output_type": "execute_result"
    }
   ],
   "source": [
    "shuffle(lines)\n",
    "lines[0]"
   ]
  },
  {
   "cell_type": "code",
   "execution_count": 44,
   "metadata": {},
   "outputs": [],
   "source": [
    "lines_reduced = lines[:2000000]"
   ]
  },
  {
   "cell_type": "code",
   "execution_count": 46,
   "metadata": {},
   "outputs": [],
   "source": [
    "lines = lines_reduced"
   ]
  },
  {
   "cell_type": "code",
   "execution_count": 54,
   "metadata": {},
   "outputs": [],
   "source": [
    "eng_dict = enchant.Dict(\"en_US\")\n",
    "exception_words = ['.', '!', '?', ',', 'nt', 'mr', 've', 'll', 're']"
   ]
  },
  {
   "cell_type": "code",
   "execution_count": 58,
   "metadata": {
    "collapsed": true,
    "jupyter": {
     "outputs_hidden": true
    }
   },
   "outputs": [
    {
     "name": "stdout",
     "output_type": "stream",
     "text": [
      "0 1\n",
      "10000 2683\n",
      "20000 5442\n",
      "30000 8169\n",
      "40000 10888\n",
      "50000 13690\n",
      "60000 16428\n",
      "70000 19192\n",
      "80000 21848\n",
      "90000 24617\n",
      "100000 27400\n",
      "110000 30207\n",
      "120000 32883\n",
      "130000 35697\n",
      "140000 38443\n",
      "150000 41195\n",
      "160000 44046\n",
      "170000 46780\n",
      "180000 49546\n",
      "190000 52308\n",
      "200000 55057\n",
      "210000 57814\n",
      "220000 60583\n",
      "230000 63375\n",
      "240000 66100\n",
      "250000 68873\n",
      "260000 71602\n",
      "270000 74334\n",
      "280000 77053\n",
      "290000 79841\n",
      "300000 82624\n",
      "310000 85307\n",
      "320000 87964\n",
      "330000 90763\n",
      "340000 93417\n",
      "350000 96204\n",
      "360000 98854\n",
      "370000 101599\n",
      "380000 104357\n",
      "390000 107134\n",
      "400000 109907\n",
      "410000 112671\n",
      "420000 115413\n",
      "430000 118116\n",
      "440000 120923\n",
      "450000 123715\n",
      "460000 126428\n",
      "470000 129180\n",
      "480000 131948\n",
      "490000 134664\n",
      "500000 137399\n",
      "510000 140112\n",
      "520000 142841\n",
      "530000 145567\n",
      "540000 148256\n",
      "550000 151000\n",
      "560000 153805\n",
      "570000 156608\n",
      "580000 159333\n",
      "590000 162030\n",
      "600000 164730\n",
      "610000 167486\n",
      "620000 170177\n",
      "630000 172923\n",
      "640000 175666\n",
      "650000 178496\n",
      "660000 181234\n",
      "670000 183958\n",
      "680000 186620\n",
      "690000 189378\n",
      "700000 192066\n",
      "710000 194798\n",
      "720000 197525\n",
      "730000 200249\n",
      "740000 202959\n",
      "750000 205661\n",
      "760000 208415\n",
      "770000 211198\n",
      "780000 213910\n",
      "790000 216679\n",
      "800000 219511\n",
      "810000 222255\n",
      "820000 225077\n",
      "830000 227834\n",
      "840000 230544\n",
      "850000 233276\n",
      "860000 236050\n",
      "870000 238806\n",
      "880000 241523\n",
      "890000 244280\n",
      "900000 247010\n",
      "910000 249732\n",
      "920000 252572\n",
      "930000 255290\n",
      "940000 258046\n",
      "950000 260751\n",
      "960000 263472\n",
      "970000 266192\n",
      "980000 268954\n",
      "990000 271703\n",
      "1000000 274502\n",
      "1010000 277175\n",
      "1020000 279913\n",
      "1030000 282613\n",
      "1040000 285455\n",
      "1050000 288201\n",
      "1060000 290954\n",
      "1070000 293737\n",
      "1080000 296446\n",
      "1090000 299089\n",
      "1100000 301777\n",
      "1110000 304566\n",
      "1120000 307262\n",
      "1130000 310051\n",
      "1140000 312707\n",
      "1150000 315420\n",
      "1160000 318120\n",
      "1170000 320794\n",
      "1180000 323586\n",
      "1190000 326318\n",
      "1200000 329112\n",
      "1210000 331906\n",
      "1220000 334661\n",
      "1230000 337393\n",
      "1240000 340086\n",
      "1250000 342806\n",
      "1260000 345653\n",
      "1270000 348349\n",
      "1280000 351059\n",
      "1290000 353771\n",
      "1300000 356587\n",
      "1310000 359310\n",
      "1320000 362059\n",
      "1330000 364824\n",
      "1340000 367584\n",
      "1350000 370280\n",
      "1360000 372998\n",
      "1370000 375830\n",
      "1380000 378612\n",
      "1390000 381406\n",
      "1400000 384157\n",
      "1410000 386882\n",
      "1420000 389581\n",
      "1430000 392346\n",
      "1440000 395148\n",
      "1450000 397867\n",
      "1460000 400647\n",
      "1470000 403366\n",
      "1480000 406115\n",
      "1490000 408866\n",
      "1500000 411628\n",
      "1510000 414347\n",
      "1520000 417071\n",
      "1530000 419796\n",
      "1540000 422472\n",
      "1550000 425237\n",
      "1560000 427973\n",
      "1570000 430708\n",
      "1580000 433444\n",
      "1590000 436137\n",
      "1600000 438896\n",
      "1610000 441632\n",
      "1620000 444409\n",
      "1630000 447065\n",
      "1640000 449840\n",
      "1650000 452537\n",
      "1660000 455280\n",
      "1670000 458022\n",
      "1680000 460798\n",
      "1690000 463498\n",
      "1700000 466248\n",
      "1710000 469007\n",
      "1720000 471745\n",
      "1730000 474484\n",
      "1740000 477235\n",
      "1750000 480022\n",
      "1760000 482623\n",
      "1770000 485391\n",
      "1780000 488159\n",
      "1790000 490980\n",
      "1800000 493729\n",
      "1810000 496494\n",
      "1820000 499311\n",
      "1830000 502060\n",
      "1840000 504769\n",
      "1850000 507441\n",
      "1860000 510220\n",
      "1870000 512995\n",
      "1880000 515779\n",
      "1890000 518455\n",
      "1900000 521171\n",
      "1910000 523934\n",
      "1920000 526690\n",
      "1930000 529458\n",
      "1940000 532199\n",
      "1950000 534879\n",
      "1960000 537618\n",
      "1970000 540406\n",
      "1980000 543163\n",
      "1990000 545957\n",
      "548682\n"
     ]
    }
   ],
   "source": [
    "j = 0\n",
    "for i, l in enumerate(lines):\n",
    "    for w in l.split():\n",
    "        if w not in exception_words and not eng_dict.check(w):\n",
    "            lines[i] = None\n",
    "            j+=1\n",
    "            break\n",
    "    if i % 10000 == 0:\n",
    "        print(i, j)\n",
    "print(j)"
   ]
  },
  {
   "cell_type": "code",
   "execution_count": 59,
   "metadata": {},
   "outputs": [
    {
     "data": {
      "text/plain": [
       "1451318"
      ]
     },
     "execution_count": 59,
     "metadata": {},
     "output_type": "execute_result"
    }
   ],
   "source": [
    "lines = list(filter(None, lines))\n",
    "len(lines)"
   ]
  },
  {
   "cell_type": "code",
   "execution_count": 61,
   "metadata": {},
   "outputs": [
    {
     "data": {
      "text/plain": [
       "1450099"
      ]
     },
     "execution_count": 61,
     "metadata": {},
     "output_type": "execute_result"
    }
   ],
   "source": [
    "j = 0\n",
    "for i, l in enumerate(lines):\n",
    "    if len(l.split()) > 20:\n",
    "        lines[i] = None\n",
    "        j+=1\n",
    "lines = list(filter(None, lines))\n",
    "len(lines)"
   ]
  },
  {
   "cell_type": "code",
   "execution_count": 62,
   "metadata": {},
   "outputs": [
    {
     "data": {
      "text/plain": [
       "(array([  3397.,  18438.,  41801.,  78662., 110731., 125797., 129528.,\n",
       "        123495., 113945., 105232.,  96409.,  87017.,  79785.,  72320.,\n",
       "         64731.,  58607.,  52621.,  46346.,  41237.]),\n",
       " array([ 2.        ,  2.94736842,  3.89473684,  4.84210526,  5.78947368,\n",
       "         6.73684211,  7.68421053,  8.63157895,  9.57894737, 10.52631579,\n",
       "        11.47368421, 12.42105263, 13.36842105, 14.31578947, 15.26315789,\n",
       "        16.21052632, 17.15789474, 18.10526316, 19.05263158, 20.        ]),\n",
       " <a list of 19 Patch objects>)"
      ]
     },
     "execution_count": 62,
     "metadata": {},
     "output_type": "execute_result"
    },
    {
     "data": {
      "image/png": "[encoded data removed]",
      "text/plain": [
       "<Figure size 432x288 with 1 Axes>"
      ]
     },
     "metadata": {
      "needs_background": "light"
     },
     "output_type": "display_data"
    }
   ],
   "source": [
    "lens = [len(line.split()) for line in lines]\n",
    "plt.hist(lens, bins=19)"
   ]
  },
  {
   "cell_type": "code",
   "execution_count": 63,
   "metadata": {},
   "outputs": [],
   "source": [
    "data = \"\\n\".join(lines)\n",
    "f = open(\"../other/books_clean_small.txt\", 'w')\n",
    "f.write(data)\n",
    "f.close()"
   ]
  },
  {
   "cell_type": "code",
   "execution_count": null,
   "metadata": {},
   "outputs": [],
   "source": []
  }
 ],
 "metadata": {
  "kernelspec": {
   "display_name": "Python 3",
   "language": "python",
   "name": "python3"
  },
  "language_info": {
   "codemirror_mode": {
    "name": "ipython",
    "version": 3
   },
   "file_extension": ".py",
   "mimetype": "text/x-python",
   "name": "python",
   "nbconvert_exporter": "python",
   "pygments_lexer": "ipython3",
   "version": "3.7.6"
  }
 },
 "nbformat": 4,
 "nbformat_minor": 4
}
