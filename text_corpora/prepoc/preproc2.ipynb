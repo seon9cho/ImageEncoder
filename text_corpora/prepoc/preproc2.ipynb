{
 "cells": [
  {
   "cell_type": "code",
   "execution_count": 1,
   "metadata": {},
   "outputs": [],
   "source": [
    "import re"
   ]
  },
  {
   "cell_type": "code",
   "execution_count": 2,
   "metadata": {},
   "outputs": [
    {
     "data": {
      "text/plain": [
       "510010"
      ]
     },
     "execution_count": 2,
     "metadata": {},
     "output_type": "execute_result"
    }
   ],
   "source": [
    "data_str = open(\"temp.txt\", encoding='utf-8').read().strip()\n",
    "lines = data_str.split('\\n')\n",
    "vocab = set(data_str.split())\n",
    "len(vocab)"
   ]
  },
  {
   "cell_type": "code",
   "execution_count": 6,
   "metadata": {},
   "outputs": [
    {
     "name": "stdout",
     "output_type": "stream",
     "text": [
      "97402\n"
     ]
    }
   ],
   "source": [
    "j = 0\n",
    "for line in lines:\n",
    "    if bool(re.search(r'chapter', line)):\n",
    "        j+=1\n",
    "print(j)"
   ]
  },
  {
   "cell_type": "code",
   "execution_count": 7,
   "metadata": {},
   "outputs": [],
   "source": [
    "for i, line in enumerate(lines):\n",
    "    if bool(re.search(r'chapter', line)):\n",
    "        lines[i] = None"
   ]
  },
  {
   "cell_type": "code",
   "execution_count": 10,
   "metadata": {},
   "outputs": [
    {
     "name": "stdout",
     "output_type": "stream",
     "text": [
      "the author cleverly combines a well paced , csi styled crime thriller , with a no holds barred , plausible international conspiracy .\n",
      "steven konkoly , amazon bestselling author of the jakarta pandemic and black flagged king of swords is a great read for anyone who enjoys thrillers like those by forsyth and ludlum .\n",
      "russell blake is an example of an indie author who is surpassing many of the best of the name writers , and kos should put him right in the same ranks as them .\n",
      "visit russells website for more details about the author russell blake lives full time on the pacific coast of mexico .\n",
      "he is the acclaimed author of the thrillers : fatal exchange , the geronimo breach , zero sum , the delphi chronicle trilogy ( the manuscript , the tortoise and the hare , and phoenix rising ) , king of swords , night of the assassin , the voynich cypher , revenge of the assassin , return of the assassin , blood of the assassin , silver justice , jet , jet ii betrayal , jet iii vengeance , jet iv reckoning and jet v legacy .\n",
      "thank you for respecting the hard work of this author .\n",
      "thank you for respecting the hard work of this author .\n",
      "j bennett is a professional copywriter and an author who loves asking that oh so dangerous question what if ?\n",
      "thank you for respecting the hard work of this author all characters in this publication are fictitious and any resemblance to real persons , living or dead is purely coincidental .\n",
      "thank you for respecting the hard work of this author .\n",
      "there was no money to be made from an unknown author .\n",
      "yes , anderson , manny , no im not an author .\n",
      "the moral right of tony wilson to be identified as the author of this work has been asserted .\n",
      "thank you for respecting the hard work of this author .\n",
      "( unknown author ) .\n",
      "the moral right of tony wilson to be identified as the author of this work has been asserted .\n",
      "no part of this ebook may be reproduced or transmitted in any form or by any means without written permission from the author .\n",
      "thank you for respecting the hard work of this author .\n",
      "thank you for respecting the hard work of this author .\n",
      "6061\n"
     ]
    }
   ],
   "source": [
    "j = 0\n",
    "for line in lines:\n",
    "    if line == None:\n",
    "        continue\n",
    "    if bool(re.search(r'\\bauthor\\b', line)):\n",
    "        j+=1\n",
    "        if j < 20:\n",
    "            print(line)\n",
    "print(j)"
   ]
  },
  {
   "cell_type": "code",
   "execution_count": 12,
   "metadata": {},
   "outputs": [],
   "source": [
    "for i, line in enumerate(lines):\n",
    "    if line == None: continue\n",
    "    if bool(re.search(r'\\bauthor\\b', line)):\n",
    "        lines[i] = None"
   ]
  },
  {
   "cell_type": "code",
   "execution_count": 16,
   "metadata": {},
   "outputs": [
    {
     "name": "stdout",
     "output_type": "stream",
     "text": [
      "its almost 1:30 in the morning , and i would like to get home before my dad wakes himself up , emily said , and walked towards her house . its almost <time> in the morning , and i would like to get home before my dad wakes himself up , emily said , and walked towards her house .\n",
      "it was 8:30 in the morning on sunday when alejo s sat phone buzzed with a call . it was <time> in the morning on sunday when alejo s sat phone buzzed with a call .\n",
      "today , beginning at 12:00 , manuel was to play at a luncheon . today , beginning at <time> , manuel was to play at a luncheon .\n",
      "manuel was supposed to arrive at 9:30 . manuel was supposed to arrive at <time> .\n",
      "9:42 . <time> .\n",
      "? at around 12:30 today , the announcer was saying . ? at around <time> today , the announcer was saying .\n",
      "sadly , he checked his watch : 10:30am . sadly , he checked his watch : <time>am .\n",
      "by 8:30am , his clothing had dried out completely and he focused on his duties of the day . by <time>am , his clothing had dried out completely and he focused on his duties of the day .\n",
      "huh , only 10:30 , he said aloud , frustrated at how slow time felt during moments of anguish . huh , only <time> , he said aloud , frustrated at how slow time felt during moments of anguish .\n",
      "( i wasnt drunk ) i get to class early and meet dave at about 8:30 am and have a laugh about the previous night . ( i wasnt drunk ) i get to class early and meet dave at about <time> am and have a laugh about the previous night .\n",
      "its 8:00 in the morning , and tarren is already firing on all cylinders . its <time> in the morning , and tarren is already firing on all cylinders .\n",
      "6:00 am , jesus , gabe groans and throws the blanket over his head . <time> am , jesus , gabe groans and throws the blanket over his head .\n",
      "9:03 am . <time> am .\n",
      "manny started reading , the clock on the fireplace mantle said 6:34 . manny started reading , the clock on the fireplace mantle said <time> .\n",
      "at 8:51 , manny got to the last page and put the manuscript down . at <time> , manny got to the last page and put the manuscript down .\n",
      "two years later , bored to tears and not wanting to get into the g and ts at 12:00 routine , we blew a chunk of our savings on an american motor home . two years later , bored to tears and not wanting to get into the g and ts at <time> routine , we blew a chunk of our savings on an american motor home .\n",
      "i really didnt have a clue what was required of her but by the end of her first day with me , at 9:00 pm to be precise , it was on my desk ( well bed side table ) , along with a brief e mail from vicente . i really didnt have a clue what was required of her but by the end of her first day with me , at <time> pm to be precise , it was on my desk ( well bed side table ) , along with a brief e mail from vicente .\n",
      "but why , may you ask , couldnt the introductions wait until morning , well the sea sprite was going to weigh anchor at eight oclock ( sorry 08:00 or was it the third watch of the first bell or some such thing ) ) , and by then i wanted carol and caroline ashore and on their way to el campo . but why , may you ask , couldnt the introductions wait until morning , well the sea sprite was going to weigh anchor at eight oclock ( sorry <time> or was it the third watch of the first bell or some such thing ) ) , and by then i wanted carol and caroline ashore and on their way to el campo .\n",
      "that had been laid on especially for their entertainment , and i let the rather nave ones among them continue to think that , but that all changed at 14:32 local : mayday , mayday , mayday , this is fair weather sailor calling . that had been laid on especially for their entertainment , and i let the rather nave ones among them continue to think that , but that all changed at <time> local : mayday , mayday , mayday , this is fair weather sailor calling .\n",
      "9548\n"
     ]
    }
   ],
   "source": [
    "j = 0\n",
    "for i, line in enumerate(lines):\n",
    "    if line == None:\n",
    "        continue\n",
    "    if bool(re.search(r'\\d{1,2}\\:\\d{2}', line)):\n",
    "        lines[i] = re.sub(r'\\d{1,2}\\:\\d{2}', '<time>', line)\n",
    "        j += 1\n",
    "        if j < 20:\n",
    "            print(line, lines[i])\n",
    "print(j)"
   ]
  },
  {
   "cell_type": "code",
   "execution_count": 17,
   "metadata": {},
   "outputs": [
    {
     "name": "stdout",
     "output_type": "stream",
     "text": [
      "sadly , he checked his watch : <time>am . sadly , he checked his watch : \\<time\\> am .\n",
      "by <time>am , his clothing had dried out completely and he focused on his duties of the day . by \\<time\\> am , his clothing had dried out completely and he focused on his duties of the day .\n",
      "another fact struck me : it was now <time>am and i was exhausted . another fact struck me : it was now \\<time\\> am and i was exhausted .\n",
      "on that day , i woke at <time>am , showered , placed both hollow needle copies in my satchel , and headed out on foot to the top nut , a small coffee bar . on that day , i woke at \\<time\\> am , showered , placed both hollow needle copies in my satchel , and headed out on foot to the top nut , a small coffee bar .\n",
      "in the corner of his vision he saw : c1n2 connected net hs projects lab , <time>.53 toby sank into the sofa , closed his eyes and switched the console message displayed in his peripheral vision to his full field of vision . in the corner of his vision he saw : c1n2 connected net hs projects lab , \\<time\\> .53 toby sank into the sofa , closed his eyes and switched the console message displayed in his peripheral vision to his full field of vision .\n",
      "c1n2 connected net hs projects lab , <time>.03 hs1 online 007 online netmesh wizard detected on port 1 , cpu 0 requesting remote session control of v10xcpux0 granted to jcwiznet on cpu 0 process 0 youre a hack , jacob , toby said with a giggle . c1n2 connected net hs projects lab , \\<time\\> .03 hs1 online 007 online netmesh wizard detected on port 1 , cpu 0 requesting remote session control of v10xcpux0 granted to jcwiznet on cpu 0 process 0 youre a hack , jacob , toby said with a giggle .\n",
      "bmesh 10.2 online searching for connections c1n2 connected net hs projects lab , <time>.53 negotiating with netmesh v2 ... netmesh wizard detected on port 1 , cpu 0 net hs lab mesh network monitor multi host mode connections open to all permitted mesh hosts 007 online hs2 online waiting host command 007 connect 007 : hello , toby , glad youre back . bmesh 10.2 online searching for connections c1n2 connected net hs projects lab , \\<time\\> .53 negotiating with netmesh v2 ... netmesh wizard detected on port 1 , cpu 0 net hs lab mesh network monitor multi host mode connections open to all permitted mesh hosts 007 online hs2 online waiting host command 007 connect 007 : hello , toby , glad youre back .\n",
      "<time>:02 . \\<time\\> :02 .\n",
      "item number five for the day was to rest until <time>:00 when the next item on her list came about . item number five for the day was to rest until \\<time\\> :00 when the next item on her list came about .\n",
      "by <time>am amber sat in front of the computer , typing . by \\<time\\> am amber sat in front of the computer , typing .\n",
      "we have mass here every sunday , <time>am sharp . we have mass here every sunday , \\<time\\> am sharp .\n",
      "cyclone tracy made land fall in darwin on 25th december 1974 at <time>am desecrating darwin . cyclone tracy made land fall in darwin on 25th december 1974 at \\<time\\> am desecrating darwin .\n",
      "it was <time>am . it was \\<time\\> am .\n",
      "blast off was scheduled for <time>:00 exactly . blast off was scheduled for \\<time\\> :00 exactly .\n",
      "the time was <time>:45 . the time was \\<time\\> :45 .\n",
      "the time was friday , november 22 , 1963 , <time>:32 . the time was friday , november 22 , 1963 , \\<time\\> :32 .\n",
      "the time was <time>:30 , friday , november 22 , 1963 . the time was \\<time\\> :30 , friday , november 22 , 1963 .\n",
      "the time was <time>:10 . the time was \\<time\\> :10 .\n",
      "the left turn off of main street onto houston occurred at <time>:30 . the left turn off of main street onto houston occurred at \\<time\\> :30 .\n",
      "1161\n"
     ]
    }
   ],
   "source": [
    "j = 0\n",
    "for i, line in enumerate(lines):\n",
    "    if line == None:\n",
    "        continue\n",
    "    if bool(re.search(r'\\<time\\>\\S', line)):\n",
    "        lines[i] = re.sub(r'\\<time\\>(\\S)', r'\\<time\\> \\1', line)\n",
    "        j += 1\n",
    "        if j < 20:\n",
    "            print(line, lines[i])\n",
    "print(j)"
   ]
  },
  {
   "cell_type": "code",
   "execution_count": 18,
   "metadata": {},
   "outputs": [
    {
     "name": "stdout",
     "output_type": "stream",
     "text": [
      "sadly , he checked his watch : \\<time\\> am . sadly , he checked his watch : <time> am .\n",
      "by \\<time\\> am , his clothing had dried out completely and he focused on his duties of the day . by <time> am , his clothing had dried out completely and he focused on his duties of the day .\n",
      "another fact struck me : it was now \\<time\\> am and i was exhausted . another fact struck me : it was now <time> am and i was exhausted .\n",
      "on that day , i woke at \\<time\\> am , showered , placed both hollow needle copies in my satchel , and headed out on foot to the top nut , a small coffee bar . on that day , i woke at <time> am , showered , placed both hollow needle copies in my satchel , and headed out on foot to the top nut , a small coffee bar .\n",
      "in the corner of his vision he saw : c1n2 connected net hs projects lab , \\<time\\> .53 toby sank into the sofa , closed his eyes and switched the console message displayed in his peripheral vision to his full field of vision . in the corner of his vision he saw : c1n2 connected net hs projects lab , <time> .53 toby sank into the sofa , closed his eyes and switched the console message displayed in his peripheral vision to his full field of vision .\n",
      "c1n2 connected net hs projects lab , \\<time\\> .03 hs1 online 007 online netmesh wizard detected on port 1 , cpu 0 requesting remote session control of v10xcpux0 granted to jcwiznet on cpu 0 process 0 youre a hack , jacob , toby said with a giggle . c1n2 connected net hs projects lab , <time> .03 hs1 online 007 online netmesh wizard detected on port 1 , cpu 0 requesting remote session control of v10xcpux0 granted to jcwiznet on cpu 0 process 0 youre a hack , jacob , toby said with a giggle .\n",
      "bmesh 10.2 online searching for connections c1n2 connected net hs projects lab , \\<time\\> .53 negotiating with netmesh v2 ... netmesh wizard detected on port 1 , cpu 0 net hs lab mesh network monitor multi host mode connections open to all permitted mesh hosts 007 online hs2 online waiting host command 007 connect 007 : hello , toby , glad youre back . bmesh 10.2 online searching for connections c1n2 connected net hs projects lab , <time> .53 negotiating with netmesh v2 ... netmesh wizard detected on port 1 , cpu 0 net hs lab mesh network monitor multi host mode connections open to all permitted mesh hosts 007 online hs2 online waiting host command 007 connect 007 : hello , toby , glad youre back .\n",
      "\\<time\\> :02 . <time> :02 .\n",
      "item number five for the day was to rest until \\<time\\> :00 when the next item on her list came about . item number five for the day was to rest until <time> :00 when the next item on her list came about .\n",
      "1161\n"
     ]
    }
   ],
   "source": [
    "j = 0\n",
    "for i, line in enumerate(lines):\n",
    "    if line == None:\n",
    "        continue\n",
    "    if bool(re.search(r'\\\\<time\\\\>', line)):\n",
    "        lines[i] = re.sub(r'\\\\<time\\\\>', '<time>', line)\n",
    "        j += 1\n",
    "        if j < 10:\n",
    "            print(line, lines[i])\n",
    "print(j)"
   ]
  },
  {
   "cell_type": "code",
   "execution_count": 20,
   "metadata": {},
   "outputs": [
    {
     "name": "stdout",
     "output_type": "stream",
     "text": [
      "<time> :02 . <time>  .\n",
      "item number five for the day was to rest until <time> :00 when the next item on her list came about . item number five for the day was to rest until <time>  when the next item on her list came about .\n",
      "blast off was scheduled for <time> :00 exactly . blast off was scheduled for <time>  exactly .\n",
      "the time was <time> :45 . the time was <time>  .\n",
      "the time was friday , november 22 , 1963 , <time> :32 . the time was friday , november 22 , 1963 , <time>  .\n",
      "the time was <time> :30 , friday , november 22 , 1963 . the time was <time>  , friday , november 22 , 1963 .\n",
      "the time was <time> :10 . the time was <time>  .\n",
      "the left turn off of main street onto houston occurred at <time> :30 . the left turn off of main street onto houston occurred at <time>  .\n",
      "the time was <time> :30 . the time was <time>  .\n",
      "474\n"
     ]
    }
   ],
   "source": [
    "j = 0\n",
    "for i, line in enumerate(lines):\n",
    "    if line == None:\n",
    "        continue\n",
    "    if bool(re.search(r'\\:\\d\\d', line)):\n",
    "        lines[i] = re.sub(r'\\:\\d\\d', '', line)\n",
    "        j+=1\n",
    "        if j < 10:\n",
    "            print(line, lines[i])\n",
    "print(j)"
   ]
  },
  {
   "cell_type": "code",
   "execution_count": 32,
   "metadata": {},
   "outputs": [
    {
     "name": "stdout",
     "output_type": "stream",
     "text": [
      "69046\n"
     ]
    }
   ],
   "source": [
    "j = 0\n",
    "for i, line in enumerate(lines):\n",
    "    if line == None:\n",
    "        continue\n",
    "    if len(line) > 300:\n",
    "        lines[i] = None\n",
    "        j+=1\n",
    "print(j)"
   ]
  },
  {
   "cell_type": "code",
   "execution_count": 35,
   "metadata": {},
   "outputs": [
    {
     "name": "stdout",
     "output_type": "stream",
     "text": [
      "11\n",
      "14\n",
      "19\n",
      "23\n",
      "24\n",
      "29\n",
      "31\n",
      "33\n",
      "41\n",
      "44\n",
      "46\n",
      "47\n",
      "52\n",
      "55\n",
      "58\n",
      "59\n",
      "61\n",
      "62\n",
      "64\n",
      "65\n",
      "66\n",
      "67\n",
      "69\n",
      "76\n",
      "78\n",
      "79\n"
     ]
    }
   ],
   "source": [
    "m = 0\n",
    "for line in lines:\n",
    "    if line == None: continue\n",
    "    if len(line.split()) > m:\n",
    "        m = len(line.split())\n",
    "        print(m)"
   ]
  },
  {
   "cell_type": "code",
   "execution_count": 37,
   "metadata": {},
   "outputs": [
    {
     "name": "stdout",
     "output_type": "stream",
     "text": [
      "0\n"
     ]
    }
   ],
   "source": [
    "j = 0\n",
    "for i, line in enumerate(lines):\n",
    "    if line == None: continue\n",
    "    if len(line.split()) > 70:\n",
    "        lines[i] = None\n",
    "print(j)"
   ]
  },
  {
   "cell_type": "code",
   "execution_count": 38,
   "metadata": {},
   "outputs": [],
   "source": [
    "lines = list(filter(None, lines))"
   ]
  },
  {
   "cell_type": "code",
   "execution_count": 43,
   "metadata": {},
   "outputs": [
    {
     "name": "stdout",
     "output_type": "stream",
     "text": [
      "78529\n"
     ]
    }
   ],
   "source": [
    "j = 0\n",
    "for i, line in enumerate(lines):\n",
    "    if bool(re.search(r'^\\W', line)):\n",
    "        lines[i] = None\n",
    "        j+=1\n",
    "print(j)"
   ]
  },
  {
   "cell_type": "code",
   "execution_count": 44,
   "metadata": {},
   "outputs": [
    {
     "data": {
      "text/plain": [
       "39363572"
      ]
     },
     "execution_count": 44,
     "metadata": {},
     "output_type": "execute_result"
    }
   ],
   "source": [
    "lines = list(filter(None, lines))\n",
    "len(lines)"
   ]
  },
  {
   "cell_type": "code",
   "execution_count": 47,
   "metadata": {},
   "outputs": [
    {
     "name": "stdout",
     "output_type": "stream",
     "text": [
      "its only , i popped open my phone , 3pm . its only , i popped open my phone , 3 pm .\n",
      "she climbed up the bus steps and easily found seat 22b , weak kneed with relief that it was nowhere near where she and noah had sat on the bus from coroico . she climbed up the bus steps and easily found seat 22 b , weak kneed with relief that it was nowhere near where she and noah had sat on the bus from coroico .\n",
      "having sat through the bite of cold as they crawled in under darkness , hunger pangs from lack of food , and the contemplation of death , the union volunteers of the 79th pennsylvania were ready and determined to complete their task . having sat through the bite of cold as they crawled in under darkness , hunger pangs from lack of food , and the contemplation of death , the union volunteers of the 79 th pennsylvania were ready and determined to complete their task .\n",
      "he was now existing in another era in time : the civil war the 1860s . he was now existing in another era in time : the civil war the 1860 s .\n",
      "jennifer989 the artistry in this work as the brush strokes build layers , brings you to wonder if something like this could be true ! jennifer 989 the artistry in this work as the brush strokes build layers , brings you to wonder if something like this could be true !\n",
      "i loved fatal exchange and had tears of laughter running down my face for how to sell a gazillion ebooks , and now spent a big chunk of my night reading till 4am to get to the end of geronimo breach . i loved fatal exchange and had tears of laughter running down my face for how to sell a gazillion ebooks , and now spent a big chunk of my night reading till 4 am to get to the end of geronimo breach .\n",
      "by the early 1990s , the mexican cartels were handling much of the trafficking for the colombians , whose cartels had disintegrated in the late 1980s with their survivors now focused mainly on manufacturing . by the early 1990 s , the mexican cartels were handling much of the trafficking for the colombians , whose cartels had disintegrated in the late 1980 s with their survivors now focused mainly on manufacturing .\n",
      "one afternoon , shortly after the boys fifteenth birthday , emilio performed the ultimate pistol test , bringing with him a smith and wesson .357 magnum revolver and a ruger 9mm semi automatic . one afternoon , shortly after the boys fifteenth birthday , emilio performed the ultimate pistol test , bringing with him a smith and wesson .357 magnum revolver and a ruger 9 mm semi automatic .\n",
      "the rifle they were using for the exercise was an american manufactured barrett m82 , a .50 caliber rifle with an effective range of eighteen hundred meters , although accuracy became iffy after nine hundred to a thousand meters . the rifle they were using for the exercise was an american manufactured barrett m 82 , a .50 caliber rifle with an effective range of eighteen hundred meters , although accuracy became iffy after nine hundred to a thousand meters .\n",
      "32911\n"
     ]
    }
   ],
   "source": [
    "j = 0\n",
    "for i, line in enumerate(lines):\n",
    "    if line == None: continue\n",
    "    if bool(re.search(r'[a-z][0-9]|[0-9][a-z]', line)):\n",
    "        lines[i] = re.sub(r'([a-z])([0-9])', r'\\1 \\2', line)\n",
    "        line2 = lines[i]\n",
    "        lines[i] = re.sub(r'([0-9])([a-z])', r'\\1 \\2', line2)\n",
    "        j+=1\n",
    "        if j < 10:\n",
    "            print(line, lines[i])\n",
    "print(j)"
   ]
  },
  {
   "cell_type": "code",
   "execution_count": 49,
   "metadata": {},
   "outputs": [],
   "source": [
    "lines = list(filter(None, lines))"
   ]
  },
  {
   "cell_type": "code",
   "execution_count": 51,
   "metadata": {},
   "outputs": [],
   "source": [
    "data_str = \"\\n\".join(lines)\n",
    "f = open(\"temp2.txt\", 'w')\n",
    "f.write(data_str)\n",
    "f.close()"
   ]
  },
  {
   "cell_type": "code",
   "execution_count": null,
   "metadata": {},
   "outputs": [],
   "source": []
  },
  {
   "cell_type": "code",
   "execution_count": null,
   "metadata": {},
   "outputs": [],
   "source": []
  },
  {
   "cell_type": "code",
   "execution_count": null,
   "metadata": {},
   "outputs": [],
   "source": []
  },
  {
   "cell_type": "code",
   "execution_count": 13,
   "metadata": {},
   "outputs": [],
   "source": [
    "from collections import Counter"
   ]
  },
  {
   "cell_type": "code",
   "execution_count": null,
   "metadata": {},
   "outputs": [],
   "source": []
  }
 ],
 "metadata": {
  "kernelspec": {
   "display_name": "Python 3",
   "language": "python",
   "name": "python3"
  },
  "language_info": {
   "codemirror_mode": {
    "name": "ipython",
    "version": 3
   },
   "file_extension": ".py",
   "mimetype": "text/x-python",
   "name": "python",
   "nbconvert_exporter": "python",
   "pygments_lexer": "ipython3",
   "version": "3.7.6"
  }
 },
 "nbformat": 4,
 "nbformat_minor": 4
}
